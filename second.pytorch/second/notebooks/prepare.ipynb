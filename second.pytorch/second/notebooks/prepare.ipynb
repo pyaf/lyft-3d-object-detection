{
 "cells": [
  {
   "cell_type": "code",
   "execution_count": 1,
   "metadata": {
    "ExecuteTime": {
     "end_time": "2019-10-04T13:56:03.307780Z",
     "start_time": "2019-10-04T13:56:03.079726Z"
    }
   },
   "outputs": [],
   "source": [
    "%load_ext autoreload\n",
    "%autoreload 2\n",
    "%matplotlib inline"
   ]
  },
  {
   "cell_type": "code",
   "execution_count": 2,
   "metadata": {
    "ExecuteTime": {
     "end_time": "2019-10-04T13:56:04.585307Z",
     "start_time": "2019-10-04T13:56:03.753093Z"
    }
   },
   "outputs": [],
   "source": [
    "import numpy as np\n",
    "import pandas as pd\n",
    "import plotly.graph_objects as go\n",
    "import matplotlib.pyplot as plt\n",
    "from mpl_toolkits.mplot3d import axes3d, Axes3D\n",
    "from tqdm import tqdm_notebook as tqdm\n",
    "import pickle\n",
    "from pathlib import Path\n",
    "from nuscenes import NuScenes\n",
    "from scipy.spatial.transform import Rotation as R \n",
    "from math import cos, sin, pi\n",
    "from lyft_dataset_sdk.lyftdataset import *\n",
    "from lyft_dataset_sdk.utils.data_classes import LidarPointCloud, Box, Quaternion\n",
    "from lyft_dataset_sdk.utils.geometry_utils import view_points, transform_matrix\n",
    "from lyft_dataset_sdk.eval.detection.mAP_evaluation import Box3D, recall_precision"
   ]
  },
  {
   "cell_type": "code",
   "execution_count": 3,
   "metadata": {
    "ExecuteTime": {
     "end_time": "2019-10-04T13:56:13.286542Z",
     "start_time": "2019-10-04T13:56:04.586606Z"
    }
   },
   "outputs": [],
   "source": [
    "phase = 'train'\n",
    "data = 'v1.0-trainval' if phase=='train' else 'v1.0-test'\n",
    "lyft = LyftDataset(data_path=f'../../../data/lyft/{phase}/', json_path=f'../../../data/lyft/{phase}/{data}/', verbose=0) \n",
    "# nusc = NuScenes(dataroot=f'../../data/lyft/{phase}/', version=data, verbose=0) "
   ]
  },
  {
   "cell_type": "markdown",
   "metadata": {},
   "source": [
    "### prepare ground truth json files\n",
    "\n",
    "Ground truth json files for train/val set are used for evaluation using  lyft's official mAP metric"
   ]
  },
  {
   "cell_type": "code",
   "execution_count": 8,
   "metadata": {
    "ExecuteTime": {
     "end_time": "2019-10-04T13:56:27.971355Z",
     "start_time": "2019-10-04T13:56:26.969916Z"
    }
   },
   "outputs": [],
   "source": [
    "# info_path = '../../../data/lyft/train/infos_val.pkl'\n",
    "info_path = '../../../data/lyft/train/infos_train.pkl'\n",
    "with open(info_path, 'rb') as f:\n",
    "    info = pickle.load(f)['infos']"
   ]
  },
  {
   "cell_type": "code",
   "execution_count": 9,
   "metadata": {
    "ExecuteTime": {
     "end_time": "2019-10-04T13:56:31.232877Z",
     "start_time": "2019-10-04T13:56:29.502540Z"
    }
   },
   "outputs": [
    {
     "name": "stderr",
     "output_type": "stream",
     "text": [
      "100%|██████████| 18522/18522 [00:01<00:00, 10945.87it/s]\n"
     ]
    }
   ],
   "source": [
    "gt_data = [] \n",
    "for inf in tqdm(info):\n",
    "    sample_token = inf['token']\n",
    "    sample = lyft.get('sample', sample_token)\n",
    "    for ann_token in sample['anns']:\n",
    "        ann_record = lyft.get('sample_annotation', ann_token)\n",
    "        data = {\n",
    "            'sample_token': sample_token,\n",
    "            'translation': ann_record['translation'],\n",
    "            'size': ann_record['size'],\n",
    "            'rotation': ann_record['rotation'],\n",
    "            'name': ann_record['category_name']\n",
    "        }\n",
    "        gt_data.append(data)"
   ]
  },
  {
   "cell_type": "code",
   "execution_count": 10,
   "metadata": {
    "ExecuteTime": {
     "end_time": "2019-10-04T13:56:31.245794Z",
     "start_time": "2019-10-04T13:56:31.233980Z"
    }
   },
   "outputs": [
    {
     "data": {
      "text/plain": [
       "(524283,\n",
       " {'sample_token': 'b98a05255ba2632e957884758cb31f0e6fcc8d3cd6ee76b6d0ba55b72f08fc54',\n",
       "  'translation': [1134.216191599088, 1650.4749269743418, -23.38887732990988],\n",
       "  'size': [1.889, 4.852, 1.829],\n",
       "  'rotation': [0.27834486968982886, 0, 0, 0.9604811989400689],\n",
       "  'name': 'car'})"
      ]
     },
     "execution_count": 10,
     "metadata": {},
     "output_type": "execute_result"
    }
   ],
   "source": [
    "len(gt_data), gt_data[0]"
   ]
  },
  {
   "cell_type": "code",
   "execution_count": 11,
   "metadata": {
    "ExecuteTime": {
     "end_time": "2019-10-04T13:56:43.763148Z",
     "start_time": "2019-10-04T13:56:34.004482Z"
    }
   },
   "outputs": [],
   "source": [
    "# gt_data_path = '../../../data/lyft/train/gt_data_val.json'\n",
    "gt_data_path = '../../../data/lyft/train/gt_data_train.json'\n",
    "with open(gt_data_path, 'w') as f:\n",
    "    json.dump(gt_data, f, indent=2)"
   ]
  },
  {
   "cell_type": "code",
   "execution_count": null,
   "metadata": {},
   "outputs": [],
   "source": []
  }
 ],
 "metadata": {
  "kernelspec": {
   "display_name": "ML",
   "language": "python",
   "name": "ml"
  },
  "language_info": {
   "codemirror_mode": {
    "name": "ipython",
    "version": 3
   },
   "file_extension": ".py",
   "mimetype": "text/x-python",
   "name": "python",
   "nbconvert_exporter": "python",
   "pygments_lexer": "ipython3",
   "version": "3.7.4"
  }
 },
 "nbformat": 4,
 "nbformat_minor": 2
}
