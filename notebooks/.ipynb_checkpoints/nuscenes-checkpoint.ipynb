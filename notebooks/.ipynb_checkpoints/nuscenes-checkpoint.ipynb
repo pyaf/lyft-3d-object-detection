{
 "cells": [
  {
   "cell_type": "code",
   "execution_count": 40,
   "metadata": {
    "ExecuteTime": {
     "end_time": "2019-09-12T20:27:42.159360Z",
     "start_time": "2019-09-12T20:27:42.133847Z"
    }
   },
   "outputs": [],
   "source": [
    "import pandas as pd\n",
    "import numpy as np\n",
    "from matplotlib import pyplot as plt\n",
    "\n",
    "import json\n",
    "%matplotlib inline"
   ]
  },
  {
   "cell_type": "code",
   "execution_count": 3,
   "metadata": {
    "ExecuteTime": {
     "end_time": "2019-09-12T20:08:30.634896Z",
     "start_time": "2019-09-12T20:08:30.520010Z"
    }
   },
   "outputs": [
    {
     "name": "stdout",
     "output_type": "stream",
     "text": [
      "attribute.json\t\tlog.json\t\t  sample.json\r\n",
      "calibrated_sensor.json\tmap.json\t\t  scene.json\r\n",
      "category.json\t\tmap_raster_palo_alto.png  sensor.json\r\n",
      "ego_pose.json\t\tsample_annotation.json\t  visibility.json\r\n",
      "instance.json\t\tsample_data.json\t  zipped\r\n"
     ]
    }
   ],
   "source": [
    "!ls ../data/train_data"
   ]
  },
  {
   "cell_type": "code",
   "execution_count": 47,
   "metadata": {
    "ExecuteTime": {
     "end_time": "2019-09-12T20:34:59.641557Z",
     "start_time": "2019-09-12T20:34:53.576970Z"
    }
   },
   "outputs": [],
   "source": [
    "attributes = json.load(open('../data/train_data/attribute.json'))\n",
    "calibrated_sensor = json.load(open('../data/train_data/calibrated_sensor.json'))\n",
    "category = json.load(open('../data/train_data/category.json'))\n",
    "ego_pose = json.load(open('../data/train_data/ego_pose.json'))\n",
    "instance = json.load(open('../data/train_data/instance.json'))\n",
    "sample_data = json.load(open('../data/train_data/sample_data.json'))\n",
    "sample_annotation = json.load(open('../data/train_data/sample_annotation.json'))\n",
    "map_json = json.load(open('../data/train_data/map.json'))\n",
    "log = json.load(open('../data/train_data/log.json'))\n",
    "sample = json.load(open('../data/train_data/sample.json'))\n",
    "scene = json.load(open('../data/train_data/scene.json'))\n",
    "sensor = json.load(open('../data/train_data/sensor.json'))\n",
    "visibility = json.load(open('../data/train_data/visibility.json'))"
   ]
  },
  {
   "cell_type": "code",
   "execution_count": 76,
   "metadata": {
    "ExecuteTime": {
     "end_time": "2019-09-12T21:29:40.563838Z",
     "start_time": "2019-09-12T21:29:40.557823Z"
    }
   },
   "outputs": [
    {
     "data": {
      "text/plain": [
       "[{'level': 'v60-80',\n",
       "  'description': 'visibility of whole object is between 60 and 80%',\n",
       "  'token': '3'},\n",
       " {'level': 'v0-40',\n",
       "  'description': 'visibility of whole object is between 0 and 40%',\n",
       "  'token': '1'},\n",
       " {'level': 'v40-60',\n",
       "  'description': 'visibility of whole object is between 40 and 60%',\n",
       "  'token': '2'},\n",
       " {'level': 'v80-100',\n",
       "  'description': 'visibility of whole object is between 80 and 100%',\n",
       "  'token': '4'}]"
      ]
     },
     "execution_count": 76,
     "metadata": {},
     "output_type": "execute_result"
    }
   ],
   "source": [
    "visibility"
   ]
  },
  {
   "cell_type": "code",
   "execution_count": 4,
   "metadata": {
    "ExecuteTime": {
     "end_time": "2019-09-12T20:09:08.892457Z",
     "start_time": "2019-09-12T20:09:08.411427Z"
    }
   },
   "outputs": [],
   "source": [
    "train_df = pd.read_csv('../data/train.csv')"
   ]
  },
  {
   "cell_type": "code",
   "execution_count": 54,
   "metadata": {
    "ExecuteTime": {
     "end_time": "2019-09-12T21:18:32.628126Z",
     "start_time": "2019-09-12T21:18:32.620063Z"
    }
   },
   "outputs": [
    {
     "data": {
      "text/plain": [
       "(22680, 2)"
      ]
     },
     "execution_count": 54,
     "metadata": {},
     "output_type": "execute_result"
    }
   ],
   "source": [
    "train_df.shape"
   ]
  },
  {
   "cell_type": "code",
   "execution_count": 6,
   "metadata": {
    "ExecuteTime": {
     "end_time": "2019-09-12T20:09:14.139596Z",
     "start_time": "2019-09-12T20:09:14.135109Z"
    }
   },
   "outputs": [
    {
     "data": {
      "text/html": [
       "<div>\n",
       "<style scoped>\n",
       "    .dataframe tbody tr th:only-of-type {\n",
       "        vertical-align: middle;\n",
       "    }\n",
       "\n",
       "    .dataframe tbody tr th {\n",
       "        vertical-align: top;\n",
       "    }\n",
       "\n",
       "    .dataframe thead th {\n",
       "        text-align: right;\n",
       "    }\n",
       "</style>\n",
       "<table border=\"1\" class=\"dataframe\">\n",
       "  <thead>\n",
       "    <tr style=\"text-align: right;\">\n",
       "      <th></th>\n",
       "      <th>Id</th>\n",
       "      <th>PredictionString</th>\n",
       "    </tr>\n",
       "  </thead>\n",
       "  <tbody>\n",
       "    <tr>\n",
       "      <th>0</th>\n",
       "      <td>db8b47bd4ebdf3b3fb21598bb41bd8853d12f8d2ef25ce...</td>\n",
       "      <td>2680.2830359778527 698.1969292852777 -18.04776...</td>\n",
       "    </tr>\n",
       "    <tr>\n",
       "      <th>1</th>\n",
       "      <td>edf37c1fb1024ba0c1f53ebbf10b6797f781199a9f0e4e...</td>\n",
       "      <td>1208.642684768659 1585.1812946970927 -23.56236...</td>\n",
       "    </tr>\n",
       "    <tr>\n",
       "      <th>2</th>\n",
       "      <td>1841b7895e7163a2c1be87e8c1740e759a910cd59157b8...</td>\n",
       "      <td>848.9346793681768 2587.2870557176507 -20.15995...</td>\n",
       "    </tr>\n",
       "    <tr>\n",
       "      <th>3</th>\n",
       "      <td>a970c764e7abd7ebc2cc4599a6e3ae58c9773ea3c9cf1d...</td>\n",
       "      <td>1994.4320280494098 1128.30164336183 -18.054752...</td>\n",
       "    </tr>\n",
       "    <tr>\n",
       "      <th>4</th>\n",
       "      <td>b909de93ba19460eeea58074ccc1ef6bb302435f37b48c...</td>\n",
       "      <td>1030.3877156973385 1667.13131694941 -23.764820...</td>\n",
       "    </tr>\n",
       "  </tbody>\n",
       "</table>\n",
       "</div>"
      ],
      "text/plain": [
       "                                                  Id  \\\n",
       "0  db8b47bd4ebdf3b3fb21598bb41bd8853d12f8d2ef25ce...   \n",
       "1  edf37c1fb1024ba0c1f53ebbf10b6797f781199a9f0e4e...   \n",
       "2  1841b7895e7163a2c1be87e8c1740e759a910cd59157b8...   \n",
       "3  a970c764e7abd7ebc2cc4599a6e3ae58c9773ea3c9cf1d...   \n",
       "4  b909de93ba19460eeea58074ccc1ef6bb302435f37b48c...   \n",
       "\n",
       "                                    PredictionString  \n",
       "0  2680.2830359778527 698.1969292852777 -18.04776...  \n",
       "1  1208.642684768659 1585.1812946970927 -23.56236...  \n",
       "2  848.9346793681768 2587.2870557176507 -20.15995...  \n",
       "3  1994.4320280494098 1128.30164336183 -18.054752...  \n",
       "4  1030.3877156973385 1667.13131694941 -23.764820...  "
      ]
     },
     "execution_count": 6,
     "metadata": {},
     "output_type": "execute_result"
    }
   ],
   "source": [
    "train_df.head()"
   ]
  },
  {
   "cell_type": "code",
   "execution_count": 32,
   "metadata": {
    "ExecuteTime": {
     "end_time": "2019-09-12T20:26:10.610684Z",
     "start_time": "2019-09-12T20:26:10.602171Z"
    }
   },
   "outputs": [],
   "source": [
    "img_id = train_df.iloc[0]['Id']\n",
    "ps = train_df.iloc[0]['PredictionString']\n",
    "ps = ps.split()"
   ]
  },
  {
   "cell_type": "code",
   "execution_count": 35,
   "metadata": {
    "ExecuteTime": {
     "end_time": "2019-09-12T20:26:21.246303Z",
     "start_time": "2019-09-12T20:26:21.242590Z"
    }
   },
   "outputs": [
    {
     "data": {
      "text/plain": [
       "52"
      ]
     },
     "execution_count": 35,
     "metadata": {},
     "output_type": "execute_result"
    }
   ],
   "source": [
    "objects = [ps[x:x+8] for x in range(0, len(ps), 8)]\n",
    "len(objects)"
   ]
  },
  {
   "cell_type": "code",
   "execution_count": 37,
   "metadata": {
    "ExecuteTime": {
     "end_time": "2019-09-12T20:26:27.738804Z",
     "start_time": "2019-09-12T20:26:27.729671Z"
    }
   },
   "outputs": [
    {
     "data": {
      "text/plain": [
       "'db8b47bd4ebdf3b3fb21598bb41bd8853d12f8d2ef25ce76edd4af4d04e49341'"
      ]
     },
     "execution_count": 37,
     "metadata": {},
     "output_type": "execute_result"
    }
   ],
   "source": [
    "img_id"
   ]
  },
  {
   "cell_type": "code",
   "execution_count": 56,
   "metadata": {
    "ExecuteTime": {
     "end_time": "2019-09-12T21:22:34.187037Z",
     "start_time": "2019-09-12T21:22:34.181451Z"
    }
   },
   "outputs": [
    {
     "data": {
      "text/plain": [
       "189504"
      ]
     },
     "execution_count": 56,
     "metadata": {},
     "output_type": "execute_result"
    }
   ],
   "source": [
    "len(sample_data)"
   ]
  },
  {
   "cell_type": "code",
   "execution_count": 58,
   "metadata": {
    "ExecuteTime": {
     "end_time": "2019-09-12T21:24:10.475434Z",
     "start_time": "2019-09-12T21:24:10.472720Z"
    }
   },
   "outputs": [],
   "source": [
    "train_df['filename'] = ''"
   ]
  },
  {
   "cell_type": "code",
   "execution_count": 91,
   "metadata": {
    "ExecuteTime": {
     "end_time": "2019-09-12T21:33:11.643455Z",
     "start_time": "2019-09-12T21:33:11.638008Z"
    }
   },
   "outputs": [
    {
     "data": {
      "text/plain": [
       "{'width': 1224,\n",
       " 'height': 1024,\n",
       " 'calibrated_sensor_token': '9151d6db26b4ee3b3075be62876cbd021b45c73fabb5eabd5920012f4438283c',\n",
       " 'token': 'eb0ef59014c2a44f8f142e0e55122d40c0f46849510ca8fbd95cf1490c1f6568',\n",
       " 'sample_token': '5b7a386126fcedb2affb2b1608cdc76036a5cc8a2db48b6098cc9687444a3e59',\n",
       " 'is_key_frame': True,\n",
       " 'prev': '720983c64ec756c2c210313de7d384cba9e968b97089a18711ab29a82f84ca67',\n",
       " 'fileformat': 'jpeg',\n",
       " 'ego_pose_token': 'df5412df275ef8bc0a97cbed21e808ab4a554eae1161762889cb8c2c5c729617',\n",
       " 'timestamp': 1549921004400869.0,\n",
       " 'next': 'f7ac311e16475393b675c690d890142d60cb279e4b67563c5ab24205b1d7e3cb',\n",
       " 'filename': 'images/host-a007_cam3_1233956204400869006.jpeg'}"
      ]
     },
     "execution_count": 91,
     "metadata": {},
     "output_type": "execute_result"
    }
   ],
   "source": [
    "d"
   ]
  },
  {
   "cell_type": "code",
   "execution_count": 69,
   "metadata": {
    "ExecuteTime": {
     "end_time": "2019-09-12T21:27:52.473679Z",
     "start_time": "2019-09-12T21:27:52.468552Z"
    }
   },
   "outputs": [
    {
     "data": {
      "text/html": [
       "<div>\n",
       "<style scoped>\n",
       "    .dataframe tbody tr th:only-of-type {\n",
       "        vertical-align: middle;\n",
       "    }\n",
       "\n",
       "    .dataframe tbody tr th {\n",
       "        vertical-align: top;\n",
       "    }\n",
       "\n",
       "    .dataframe thead th {\n",
       "        text-align: right;\n",
       "    }\n",
       "</style>\n",
       "<table border=\"1\" class=\"dataframe\">\n",
       "  <thead>\n",
       "    <tr style=\"text-align: right;\">\n",
       "      <th></th>\n",
       "      <th>Id</th>\n",
       "      <th>PredictionString</th>\n",
       "      <th>filename</th>\n",
       "    </tr>\n",
       "  </thead>\n",
       "  <tbody>\n",
       "    <tr>\n",
       "      <th>0</th>\n",
       "      <td>db8b47bd4ebdf3b3fb21598bb41bd8853d12f8d2ef25ce...</td>\n",
       "      <td>2680.2830359778527 698.1969292852777 -18.04776...</td>\n",
       "      <td>lol</td>\n",
       "    </tr>\n",
       "    <tr>\n",
       "      <th>1</th>\n",
       "      <td>edf37c1fb1024ba0c1f53ebbf10b6797f781199a9f0e4e...</td>\n",
       "      <td>1208.642684768659 1585.1812946970927 -23.56236...</td>\n",
       "      <td></td>\n",
       "    </tr>\n",
       "    <tr>\n",
       "      <th>2</th>\n",
       "      <td>1841b7895e7163a2c1be87e8c1740e759a910cd59157b8...</td>\n",
       "      <td>848.9346793681768 2587.2870557176507 -20.15995...</td>\n",
       "      <td></td>\n",
       "    </tr>\n",
       "    <tr>\n",
       "      <th>3</th>\n",
       "      <td>a970c764e7abd7ebc2cc4599a6e3ae58c9773ea3c9cf1d...</td>\n",
       "      <td>1994.4320280494098 1128.30164336183 -18.054752...</td>\n",
       "      <td></td>\n",
       "    </tr>\n",
       "    <tr>\n",
       "      <th>4</th>\n",
       "      <td>b909de93ba19460eeea58074ccc1ef6bb302435f37b48c...</td>\n",
       "      <td>1030.3877156973385 1667.13131694941 -23.764820...</td>\n",
       "      <td></td>\n",
       "    </tr>\n",
       "  </tbody>\n",
       "</table>\n",
       "</div>"
      ],
      "text/plain": [
       "                                                  Id  \\\n",
       "0  db8b47bd4ebdf3b3fb21598bb41bd8853d12f8d2ef25ce...   \n",
       "1  edf37c1fb1024ba0c1f53ebbf10b6797f781199a9f0e4e...   \n",
       "2  1841b7895e7163a2c1be87e8c1740e759a910cd59157b8...   \n",
       "3  a970c764e7abd7ebc2cc4599a6e3ae58c9773ea3c9cf1d...   \n",
       "4  b909de93ba19460eeea58074ccc1ef6bb302435f37b48c...   \n",
       "\n",
       "                                    PredictionString filename  \n",
       "0  2680.2830359778527 698.1969292852777 -18.04776...      lol  \n",
       "1  1208.642684768659 1585.1812946970927 -23.56236...           \n",
       "2  848.9346793681768 2587.2870557176507 -20.15995...           \n",
       "3  1994.4320280494098 1128.30164336183 -18.054752...           \n",
       "4  1030.3877156973385 1667.13131694941 -23.764820...           "
      ]
     },
     "execution_count": 69,
     "metadata": {},
     "output_type": "execute_result"
    }
   ],
   "source": [
    "train_df.head()"
   ]
  },
  {
   "cell_type": "code",
   "execution_count": 97,
   "metadata": {
    "ExecuteTime": {
     "end_time": "2019-09-12T21:36:14.122800Z",
     "start_time": "2019-09-12T21:36:14.027005Z"
    }
   },
   "outputs": [
    {
     "name": "stdout",
     "output_type": "stream",
     "text": [
      "{'width': 1920, 'height': 1080, 'sample_token': 'db8b47bd4ebdf3b3fb21598bb41bd8853d12f8d2ef25ce76edd4af4d04e49341', 'token': 'bf374e60b6a1b0b9d4c0e3cf9e92b1f5d8401eae774ec1ebb3aa2f6bee59d1e5', 'calibrated_sensor_token': '8e73e320d1fa9e5af96059e6eb1dd7d28e3271dea04de86ead47fa25fd13fd20', 'is_key_frame': True, 'prev': 'f1c11f633b14f1d6405ce6dc83d5aa7dc4786ac1bad50588028edfca372cec7a', 'fileformat': 'jpeg', 'ego_pose_token': 'dfba284cabe099bbe89ff13355a7702828d02709f82579f1e49081479cb09dfe', 'timestamp': 1558109692450000.0, 'next': '000a8a46b2868cfa04c4d0ceaa4e082ac7bfa7eecfce8c415148c3676e9a876d', 'filename': 'images/host-a101_cam0_1242144892450000006.jpeg'}\n",
      "{'width': 1920, 'height': 1080, 'sample_token': 'db8b47bd4ebdf3b3fb21598bb41bd8853d12f8d2ef25ce76edd4af4d04e49341', 'token': '521ca50fff810fcb6f70170f6a6b48709e55164902e34df1e8e3d95b5b56572e', 'calibrated_sensor_token': '8868ef421e2c716ac3df7b2e29ebea5a50156d1ae83c52dce363b03c3d32aae0', 'is_key_frame': True, 'prev': '082a8c0bd8d08bbea9e1ad0881586f7049aed7e7aa0faf7cc74d7cc2c8c66752', 'fileformat': 'jpeg', 'ego_pose_token': 'dfba284cabe099bbe89ff13355a7702828d02709f82579f1e49081479cb09dfe', 'timestamp': 1558109692416660.0, 'next': 'e3923107b80a531619c534c32fe64eb2215c3399eb813ee851eaee8e1bd0ffb1', 'filename': 'images/host-a101_cam4_1242144892416660006.jpeg'}\n",
      "{'width': 1920, 'height': 1080, 'sample_token': 'db8b47bd4ebdf3b3fb21598bb41bd8853d12f8d2ef25ce76edd4af4d04e49341', 'token': 'e35731e7cc91018cbafd323f635d97ccbd948642c19937b85521bd2f9918efcc', 'calibrated_sensor_token': 'be1d17a7d10692b4bfa8f90d19d7511ed4a49e10ff7366a6971c7b1e8f5bc163', 'is_key_frame': True, 'prev': 'b5ecc12ad66abc7be6515d8813d39bf7dd2130743ebec731623aef53a0bf8f5c', 'fileformat': 'jpeg', 'ego_pose_token': 'dfba284cabe099bbe89ff13355a7702828d02709f82579f1e49081479cb09dfe', 'timestamp': 1558109692466660.0, 'next': '48b9a0898c2818bffb160e77d0f6cdeddd04c6a74810bf585b46715ada99bd2f', 'filename': 'images/host-a101_cam1_1242144892466660006.jpeg'}\n",
      "{'width': 1920, 'height': 1080, 'sample_token': 'db8b47bd4ebdf3b3fb21598bb41bd8853d12f8d2ef25ce76edd4af4d04e49341', 'token': '762f245c3f3a0cfe3a9bc97eb321eb71522eaff0904469693b9c712041fcf0a1', 'calibrated_sensor_token': '59155106c0ac5abe83cb6558ad8ce98400e3c3abf51234734bc89bc9d613470a', 'is_key_frame': True, 'prev': '929bf0caaa9c335b8fae52d119d767053226e947f325b87b032efd8960d7b0cc', 'fileformat': 'jpeg', 'ego_pose_token': 'dfba284cabe099bbe89ff13355a7702828d02709f82579f1e49081479cb09dfe', 'timestamp': 1558109692500000.0, 'next': '4218180552c23d4cf1d14a3ac9775ce484afc16b7284a3776156c3472aceeb54', 'filename': 'images/host-a101_cam3_1242144892500000006.jpeg'}\n",
      "{'width': 1920, 'height': 1080, 'sample_token': 'db8b47bd4ebdf3b3fb21598bb41bd8853d12f8d2ef25ce76edd4af4d04e49341', 'token': '89ef38638f8f4cbd932f693e934c4022681de809417a50679c9b20914286efb5', 'calibrated_sensor_token': '18908cc236587364dfac3766d0a410ef598e41a417e1cf17e3043bf50b7d600f', 'is_key_frame': True, 'prev': '16b78d5bedbced566516dc3468eadf0d0fef7ecf1497133c6be39e0e94f07c86', 'fileformat': 'jpeg', 'ego_pose_token': 'dfba284cabe099bbe89ff13355a7702828d02709f82579f1e49081479cb09dfe', 'timestamp': 1558109692483330.0, 'next': '9d519fd15258deeb06a40b13bdc6827a0df8fa33953e7eda88bd782089ecb936', 'filename': 'images/host-a101_cam2_1242144892483330006.jpeg'}\n",
      "{'is_key_frame': True, 'prev': 'f756a344b625bc2a932e4873af6d961afa84a5bb3313925f0739b79ab159a80c', 'fileformat': 'bin', 'ego_pose_token': 'e36a9a1c02de786a9ac136640955071e1eda14659f5c75ce96b7dbc37ce52491', 'timestamp': 1558109692502687.0, 'next': 'c6cb4cef7b50bc7f733ad091aa73bd9833fde0362def2cfc156162ed04a17e2c', 'token': '0d3a497e9c99f8a4697e0e9d2644a8a7e3bd20143b58dba8285b63dd1715b794', 'sample_token': 'db8b47bd4ebdf3b3fb21598bb41bd8853d12f8d2ef25ce76edd4af4d04e49341', 'filename': 'lidar/host-a101_lidar2_1242144892502687076.bin', 'calibrated_sensor_token': 'dd9aad0c2aa0c75b9b0e227b568f64aac54f72c67956e759d6c629778c7734ef'}\n",
      "{'width': 1920, 'height': 1080, 'sample_token': 'db8b47bd4ebdf3b3fb21598bb41bd8853d12f8d2ef25ce76edd4af4d04e49341', 'token': 'a8b62cfacbdb74d34051f2ace4e3e89c8eb19bab1c8830ab16a5b671a3bc9971', 'calibrated_sensor_token': 'c63ee9e8447236363329b16551200c1216313f3e1107972aa73f4672c770a07d', 'is_key_frame': True, 'prev': '24d54b61bde15d16134bc3b26a99dbe1a53610b0bf51b92ffaa0240fb92e89a9', 'fileformat': 'jpeg', 'ego_pose_token': 'dfba284cabe099bbe89ff13355a7702828d02709f82579f1e49081479cb09dfe', 'timestamp': 1558109692433330.0, 'next': 'b8d65798a023e0b4e71c55a3230c747a503c080dff2c261cd061397e527271ca', 'filename': 'images/host-a101_cam5_1242144892433330006.jpeg'}\n",
      "{'is_key_frame': True, 'prev': 'd8c2b6f50e7994c708174f077eaca66c92e7358a3cee6df32fc212b05de3c423', 'fileformat': 'bin', 'ego_pose_token': 'e36a9a1c02de786a9ac136640955071e1eda14659f5c75ce96b7dbc37ce52491', 'timestamp': 1558109692502687.0, 'next': 'a035b707c04a511ce924bdab277378a152467c778057656389eafa27875e9468', 'token': 'f2f0d25a268a7a7112be881669bf0b4848ae591c8c70de1a8e562b81c45654d4', 'sample_token': 'db8b47bd4ebdf3b3fb21598bb41bd8853d12f8d2ef25ce76edd4af4d04e49341', 'filename': 'lidar/host-a101_lidar1_1242144892502687076.bin', 'calibrated_sensor_token': '82130f5d48b806b62fec95989081337218fbf338ebcc95115d8afcebb305630c'}\n",
      "{'is_key_frame': True, 'prev': 'c125f14d1fb4271fcd0875bfed25c4301f3d293bc4cf50129828c4e2d4965db3', 'fileformat': 'bin', 'ego_pose_token': 'e36a9a1c02de786a9ac136640955071e1eda14659f5c75ce96b7dbc37ce52491', 'timestamp': 1558109692502687.0, 'next': 'f770104a6bbeab45c445e5e255f9fc0a3d3816fac2209f5b36fc12fa49fed641', 'token': 'cc0c6d32e941040f2e4a384ab9707516ca39d36b9f66baa4ab24b31cdb882bf7', 'sample_token': 'db8b47bd4ebdf3b3fb21598bb41bd8853d12f8d2ef25ce76edd4af4d04e49341', 'filename': 'lidar/host-a101_lidar0_1242144892502687076.bin', 'calibrated_sensor_token': '7575ccf88b92f9aab15b49679e86f1b03cf8050cf9b2b35cdfa4102de366d3b7'}\n",
      "{'width': 1920, 'height': 1080, 'sample_token': 'db8b47bd4ebdf3b3fb21598bb41bd8853d12f8d2ef25ce76edd4af4d04e49341', 'token': '2968bff405ae8834b9d2e12ce2a004a70a6b1d99b6e93351af5c5826026d4ea1', 'calibrated_sensor_token': '4f30ede5a14a2644e870ae98a0f140c6c8e2d1507ecb82552ef66cd6fa8819f9', 'is_key_frame': True, 'prev': 'b6f39c4c4783e6578f3f7179ababb2316f5837b5a89657d659edb5cd37df084d', 'fileformat': 'jpeg', 'ego_pose_token': 'dfba284cabe099bbe89ff13355a7702828d02709f82579f1e49081479cb09dfe', 'timestamp': 1558109692450000.0, 'next': '426fea6c8a3d06996f6e5ed45256eeb83690a4765c74eca9051f35f6f587a0b4', 'filename': 'images/host-a101_cam6_1242144892450000006.jpeg'}\n"
     ]
    }
   ],
   "source": [
    "from collections import defaultdict\n",
    "token2filename = defaultdict(lambda: None)\n",
    "for d in sample_data:\n",
    "    if img_id in d.values():\n",
    "        print(d)\n",
    "    token2filename[d['token']] = d['filename']\n",
    "    \n",
    "#what's the difference between sample_token and token? there are multiple images for a given sample_token"
   ]
  },
  {
   "cell_type": "code",
   "execution_count": 93,
   "metadata": {
    "ExecuteTime": {
     "end_time": "2019-09-12T21:34:29.998532Z",
     "start_time": "2019-09-12T21:34:29.989695Z"
    }
   },
   "outputs": [
    {
     "data": {
      "text/plain": [
       "212185"
      ]
     },
     "execution_count": 93,
     "metadata": {},
     "output_type": "execute_result"
    }
   ],
   "source": [
    "len(token2filename)"
   ]
  },
  {
   "cell_type": "code",
   "execution_count": 96,
   "metadata": {
    "ExecuteTime": {
     "end_time": "2019-09-12T21:35:53.033271Z",
     "start_time": "2019-09-12T21:35:53.027801Z"
    }
   },
   "outputs": [],
   "source": [
    "token2filename[img_id]"
   ]
  },
  {
   "cell_type": "code",
   "execution_count": 94,
   "metadata": {
    "ExecuteTime": {
     "end_time": "2019-09-12T21:34:35.349780Z",
     "start_time": "2019-09-12T21:34:35.345077Z"
    }
   },
   "outputs": [
    {
     "data": {
      "text/plain": [
       "(22680, 3)"
      ]
     },
     "execution_count": 94,
     "metadata": {},
     "output_type": "execute_result"
    }
   ],
   "source": [
    "train_df.shape"
   ]
  },
  {
   "cell_type": "code",
   "execution_count": 89,
   "metadata": {
    "ExecuteTime": {
     "end_time": "2019-09-12T21:32:48.336950Z",
     "start_time": "2019-09-12T21:32:48.117800Z"
    }
   },
   "outputs": [],
   "source": [
    "train_df['filename'] = train_df.apply(lambda x: token2filename[x[0]], axis=1)"
   ]
  },
  {
   "cell_type": "code",
   "execution_count": 95,
   "metadata": {
    "ExecuteTime": {
     "end_time": "2019-09-12T21:35:06.189311Z",
     "start_time": "2019-09-12T21:35:06.180168Z"
    }
   },
   "outputs": [
    {
     "data": {
      "text/plain": [
       "array([None, None, None, ..., None, None, None], dtype=object)"
      ]
     },
     "execution_count": 95,
     "metadata": {},
     "output_type": "execute_result"
    }
   ],
   "source": [
    "train_df['filename']"
   ]
  },
  {
   "cell_type": "code",
   "execution_count": null,
   "metadata": {},
   "outputs": [],
   "source": []
  }
 ],
 "metadata": {
  "kernelspec": {
   "display_name": "ML",
   "language": "python",
   "name": "ml"
  },
  "language_info": {
   "codemirror_mode": {
    "name": "ipython",
    "version": 3
   },
   "file_extension": ".py",
   "mimetype": "text/x-python",
   "name": "python",
   "nbconvert_exporter": "python",
   "pygments_lexer": "ipython3",
   "version": "3.7.3"
  }
 },
 "nbformat": 4,
 "nbformat_minor": 2
}
